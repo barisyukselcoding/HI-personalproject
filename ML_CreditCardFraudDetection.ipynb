{
  "cells": [
    {
      "cell_type": "markdown",
      "id": "c25c7041",
      "metadata": {
        "id": "c25c7041"
      },
      "source": [
        "# **Credit Card Fraud Detection**"
      ]
    },
    {
      "cell_type": "markdown",
      "id": "daaffd97",
      "metadata": {
        "id": "daaffd97"
      },
      "source": [
        " Dataset Link: https://www.kaggle.com/datasets/mlg-ulb/creditcardfraud\n",
        "\n",
        "(I have used google collab environment but I plan to change the code with API for secure and efficient data access)"
      ]
    },
    {
      "cell_type": "markdown",
      "id": "6795d0c1",
      "metadata": {
        "id": "6795d0c1"
      },
      "source": [
        "### Importing Necessary Libraries"
      ]
    },
    {
      "cell_type": "code",
      "execution_count": null,
      "id": "2eb4d791",
      "metadata": {
        "id": "2eb4d791"
      },
      "outputs": [],
      "source": [
        "# Importing Required Libraries for data analysis, visualization, and numerical computation\n",
        "import pandas as pd\n",
        "import numpy as np\n",
        "import matplotlib.pyplot as plt\n",
        "import seaborn as sns\n",
        "\n",
        "import warnings # For handling warnings\n",
        "warnings.filterwarnings(\"ignore\") # Suppressing warnings to keep output clean\n",
        "\n",
        "from sklearn.model_selection import train_test_split\n",
        "from sklearn.datasets import make_classification\n",
        "from imblearn.over_sampling import RandomOverSampler # For handling class imbalance in the dataset\n",
        "\n",
        "# Logistic regression model\n",
        "from sklearn.linear_model import LogisticRegression\n",
        "\n",
        "# Random forest classifier\n",
        "from sklearn.ensemble import RandomForestClassifier\n",
        "\n",
        "# Classification metrics report\n",
        "from sklearn.metrics import classification_report\n",
        "\n",
        "# Cross-validation scores\n",
        "from sklearn.model_selection import cross_val_score\n"
      ]
    },
    {
      "cell_type": "markdown",
      "id": "c4134d12",
      "metadata": {
        "id": "c4134d12"
      },
      "source": [
        "### Import and read dataset"
      ]
    },
    {
      "cell_type": "code",
      "source": [
        "# Load the dataset into a pandas DataFrame\n",
        "data = pd.read_csv(\"/content/creditcard.csv\")\n",
        "\n",
        "# Display the first 5 rows to get an initial overview of the data\n",
        "print(data.head().to_markdown(index=False, numalign=\"left\", stralign=\"left\"))"
      ],
      "metadata": {
        "colab": {
          "base_uri": "https://localhost:8080/"
        },
        "id": "YVHn4pE6Blrc",
        "outputId": "6948c6f0-7e6e-4d8a-92bf-c845d15342f2"
      },
      "id": "YVHn4pE6Blrc",
      "execution_count": null,
      "outputs": [
        {
          "output_type": "stream",
          "name": "stdout",
          "text": [
            "| Time   | V1        | V2         | V3      | V4        | V5         | V6         | V7        | V8        | V9        | V10        | V11       | V12       | V13      | V14       | V15       | V16       | V17       | V18        | V19       | V20        | V21        | V22       | V23       | V24       | V25       | V26       | V27        | V28        | Amount   | Class   |\n",
            "|:-------|:----------|:-----------|:--------|:----------|:-----------|:-----------|:----------|:----------|:----------|:-----------|:----------|:----------|:---------|:----------|:----------|:----------|:----------|:-----------|:----------|:-----------|:-----------|:----------|:----------|:----------|:----------|:----------|:-----------|:-----------|:---------|:--------|\n",
            "| 0      | -1.35981  | -0.0727812 | 2.53635 | 1.37816   | -0.338321  | 0.462388   | 0.239599  | 0.0986979 | 0.363787  | 0.0907942  | -0.5516   | -0.617801 | -0.99139 | -0.311169 | 1.46818   | -0.470401 | 0.207971  | 0.0257906  | 0.403993  | 0.251412   | -0.0183068 | 0.277838  | -0.110474 | 0.0669281 | 0.128539  | -0.189115 | 0.133558   | -0.0210531 | 149.62   | 0       |\n",
            "| 0      | 1.19186   | 0.266151   | 0.16648 | 0.448154  | 0.0600176  | -0.0823608 | -0.078803 | 0.0851017 | -0.255425 | -0.166974  | 1.61273   | 1.06524   | 0.489095 | -0.143772 | 0.635558  | 0.463917  | -0.114805 | -0.183361  | -0.145783 | -0.0690831 | -0.225775  | -0.638672 | 0.101288  | -0.339846 | 0.16717   | 0.125895  | -0.0089831 | 0.0147242  | 2.69     | 0       |\n",
            "| 1      | -1.35835  | -1.34016   | 1.77321 | 0.37978   | -0.503198  | 1.8005     | 0.791461  | 0.247676  | -1.51465  | 0.207643   | 0.624501  | 0.0660837 | 0.717293 | -0.165946 | 2.34586   | -2.89008  | 1.10997   | -0.121359  | -2.26186  | 0.52498    | 0.247998   | 0.771679  | 0.909412  | -0.689281 | -0.327642 | -0.139097 | -0.0553528 | -0.0597518 | 378.66   | 0       |\n",
            "| 1      | -0.966272 | -0.185226  | 1.79299 | -0.863291 | -0.0103089 | 1.2472     | 0.237609  | 0.377436  | -1.38702  | -0.0549519 | -0.226487 | 0.178228  | 0.507757 | -0.287924 | -0.631418 | -1.05965  | -0.684093 | 1.96578    | -1.23262  | -0.208038  | -0.1083    | 0.0052736 | -0.190321 | -1.17558  | 0.647376  | -0.221929 | 0.0627228  | 0.0614576  | 123.5    | 0       |\n",
            "| 2      | -1.15823  | 0.877737   | 1.54872 | 0.403034  | -0.407193  | 0.0959215  | 0.592941  | -0.270533 | 0.817739  | 0.753074   | -0.822843 | 0.538196  | 1.34585  | -1.11967  | 0.175121  | -0.451449 | -0.237033 | -0.0381948 | 0.803487  | 0.408542   | -0.0094307 | 0.798278  | -0.137458 | 0.141267  | -0.20601  | 0.502292  | 0.219422   | 0.215153   | 69.99    | 0       |\n"
          ]
        }
      ]
    },
    {
      "cell_type": "markdown",
      "source": [
        "PCA Transformation: The presence of 'V1' to 'V28' confirms that most of the original features have undergone a PCA transformation for confidentiality reasons. This means we don't know the original meaning of these features, which can limit our interpretability of the model later on.\n",
        "\n",
        "'Time' and 'Amount': As expected, these two features are present and have not been transformed. 'Time' shows the seconds elapsed since the first transaction, which might be helpful in identifying temporal patterns in fraud. 'Amount' represents the transaction amount and could be important in identifying unusually large or small transactions that might be fraudulent.\n",
        "\n",
        "'Class': This is our target variable, and it's correctly represented as binary (0 for non-fraud, 1 for fraud).\n"
      ],
      "metadata": {
        "id": "voG2KNcERj0r"
      },
      "id": "voG2KNcERj0r"
    },
    {
      "cell_type": "markdown",
      "source": [
        "Data Exploration: Even though we don't have the original feature names, we can still explore the data further. We could calculate summary statistics for the principal components and 'Amount' to get a sense of their distributions.\n",
        "\n",
        "Visualization: We can also visualize the data to gain more insights.\n",
        "\n",
        "Model Development: Once we have a better understanding of the data, we can start thinking about building a model to predict fraud. Given the class imbalance (more non-fraudulent transactions than fraudulent ones), we'll need to be careful in choosing appropriate evaluation metrics and modeling techniques."
      ],
      "metadata": {
        "id": "eetHQlgiRvDy"
      },
      "id": "eetHQlgiRvDy"
    },
    {
      "cell_type": "markdown",
      "id": "3d4fe1a9",
      "metadata": {
        "id": "3d4fe1a9"
      },
      "source": [
        "### Data Cleaning"
      ]
    },
    {
      "cell_type": "markdown",
      "id": "fe00f5bd",
      "metadata": {
        "id": "fe00f5bd"
      },
      "source": [
        "a. Missing Value"
      ]
    },
    {
      "cell_type": "code",
      "execution_count": null,
      "id": "efd10e6f",
      "metadata": {
        "id": "efd10e6f",
        "colab": {
          "base_uri": "https://localhost:8080/"
        },
        "outputId": "8eb35bda-9cb5-41cc-b71b-f999f3d2826f"
      },
      "outputs": [
        {
          "output_type": "stream",
          "name": "stdout",
          "text": [
            "Missing values per column:\n",
            " Time      0\n",
            "V1        0\n",
            "V2        0\n",
            "V3        0\n",
            "V4        0\n",
            "V5        0\n",
            "V6        0\n",
            "V7        0\n",
            "V8        0\n",
            "V9        0\n",
            "V10       0\n",
            "V11       0\n",
            "V12       0\n",
            "V13       0\n",
            "V14       0\n",
            "V15       0\n",
            "V16       0\n",
            "V17       0\n",
            "V18       0\n",
            "V19       0\n",
            "V20       0\n",
            "V21       0\n",
            "V22       0\n",
            "V23       0\n",
            "V24       0\n",
            "V25       0\n",
            "V26       0\n",
            "V27       0\n",
            "V28       0\n",
            "Amount    0\n",
            "Class     0\n",
            "dtype: int64\n"
          ]
        }
      ],
      "source": [
        "# Check for missing values in each column\n",
        "missing_values = data.isnull().sum()\n",
        "\n",
        "# Display the count of missing values per column\n",
        "print(\"Missing values per column:\\n\", missing_values)"
      ]
    },
    {
      "cell_type": "markdown",
      "source": [
        "It looks like our dataset is clean with no missing values. This will save us some time and effort in preprocessing!"
      ],
      "metadata": {
        "id": "loz_56_0SVJA"
      },
      "id": "loz_56_0SVJA"
    },
    {
      "cell_type": "markdown",
      "id": "4516036d",
      "metadata": {
        "id": "4516036d"
      },
      "source": [
        "b. Duplicate data"
      ]
    },
    {
      "cell_type": "code",
      "execution_count": null,
      "id": "da501911",
      "metadata": {
        "id": "da501911",
        "colab": {
          "base_uri": "https://localhost:8080/"
        },
        "outputId": "bd7d4db8-2851-4119-a644-e6e5ccc51d26"
      },
      "outputs": [
        {
          "output_type": "stream",
          "name": "stdout",
          "text": [
            "Number of duplicate rows: 1081\n"
          ]
        }
      ],
      "source": [
        "# Check for duplicate rows\n",
        "duplicate_rows = data.duplicated().sum()\n",
        "\n",
        "# Print the number of duplicate rows\n",
        "print(f'Number of duplicate rows: {duplicate_rows}')\n"
      ]
    },
    {
      "cell_type": "markdown",
      "source": [
        "It seems there are duplicate rows in our dataset! That's something we definitely need to address before moving forward with our analysis. Duplicate rows can skew results and affect the performance of any machine learning models we build."
      ],
      "metadata": {
        "id": "qospbFLvTBnP"
      },
      "id": "qospbFLvTBnP"
    },
    {
      "cell_type": "markdown",
      "source": [
        "We have a few options:\n",
        "\n",
        "Remove Duplicates: The simplest approach is to remove the duplicate rows entirely.\n",
        "\n",
        "Investigate Further: Before removing the duplicates, it might be insightful to investigate them a bit. Are they exact duplicates across all columns, or are there subtle differences? Understanding the nature of the duplicates could shed light on potential data collection or processing issues.\n",
        "\n",
        "Keep Duplicates (Rarely): In some rare cases, duplicates might be meaningful and should be kept. However, this is less likely in a credit card fraud dataset like this.\n"
      ],
      "metadata": {
        "id": "bKQmgQCzTMp_"
      },
      "id": "bKQmgQCzTMp_"
    },
    {
      "cell_type": "markdown",
      "source": [
        "Given that the dataset has undergone PCA transformation, removing the duplicate rows is the most straightforward and appropriate approach. Since the principal components don't have clear real-world interpretations, investigating the duplicates further might not yield meaningful insights. Additionally, keeping duplicates is rarely beneficial in fraud detection scenarios."
      ],
      "metadata": {
        "id": "zD4iS8yCTdgt"
      },
      "id": "zD4iS8yCTdgt"
    },
    {
      "cell_type": "markdown",
      "id": "b5119181",
      "metadata": {
        "id": "b5119181"
      },
      "source": [
        "### Data Analysis"
      ]
    },
    {
      "cell_type": "markdown",
      "id": "5f9d6331",
      "metadata": {
        "id": "5f9d6331"
      },
      "source": [
        "*Focus* 1: What is the percentage of fraud transactions in the dataset?"
      ]
    },
    {
      "cell_type": "code",
      "execution_count": null,
      "id": "fc08822c",
      "metadata": {
        "id": "fc08822c",
        "colab": {
          "base_uri": "https://localhost:8080/"
        },
        "outputId": "db541daf-3873-4eaa-86c5-2f90c48d9eec"
      },
      "outputs": [
        {
          "output_type": "stream",
          "name": "stdout",
          "text": [
            "Percentage of fraud transactions: 0.17%\n"
          ]
        }
      ],
      "source": [
        "# Count the total number of transactions\n",
        "total_transactions = data.shape[0]\n",
        "\n",
        "# Count the number of fraud transactions\n",
        "fraud_transactions = data[data['Class'] == 1].shape[0]\n",
        "\n",
        "# Calculate the percentage of fraud transactions\n",
        "fraud_percentage = (fraud_transactions / total_transactions) * 100\n",
        "\n",
        "# Print the percentage of fraud transactions\n",
        "print(f'Percentage of fraud transactions: {fraud_percentage:.2f}%')\n"
      ]
    },
    {
      "cell_type": "markdown",
      "source": [
        "The percentage of fraud transactions in the dataset is very low. This indicates that the dataset is highly imbalanced, with the majority of transactions being legitimate."
      ],
      "metadata": {
        "id": "kWxNay85VCfs"
      },
      "id": "kWxNay85VCfs"
    },
    {
      "cell_type": "markdown",
      "source": [
        "Implications for my analysis:\n",
        "\n",
        "Model Challenges: This imbalance poses a challenge for machine learning models.\n",
        "\n",
        " They might be biased towards predicting the majority class (non-fraudulent transactions) and struggle to accurately identify the minority class (fraudulent transactions).\n",
        "\n",
        "\n"
      ],
      "metadata": {
        "id": "2vUx8dDTVKhL"
      },
      "id": "2vUx8dDTVKhL"
    },
    {
      "cell_type": "markdown",
      "source": [
        "Evaluation Metrics:  Accuracy alone won't be a good indicator of your model's performance. We'll need to use metrics like precision, recall, and the Area Under the Precision-Recall Curve (AUPRC), which are better suited for imbalanced datasets.\n",
        "\n"
      ],
      "metadata": {
        "id": "ajqnR5gJVdVd"
      },
      "id": "ajqnR5gJVdVd"
    },
    {
      "cell_type": "markdown",
      "source": [
        "We have some options to handle this imbalance :\n",
        "\n",
        "Data Balancing Techniques: We need to consider techniques like oversampling the minority class or undersampling the majority class to create a more balanced dataset for training your model.\n",
        "\n",
        "Although it is beyond the scope of this project, we can generally choose algorithms that are known to handle imbalanced data well such as BalancedBaggingClassifier model."
      ],
      "metadata": {
        "id": "CLwEoISTV6Qt"
      },
      "id": "CLwEoISTV6Qt"
    },
    {
      "cell_type": "markdown",
      "id": "906ae755",
      "metadata": {
        "id": "906ae755"
      },
      "source": [
        "*Focus* 2: What is the average transaction amount for fraud transactions?\n",
        "\n"
      ]
    },
    {
      "cell_type": "code",
      "execution_count": null,
      "id": "38993dc8",
      "metadata": {
        "id": "38993dc8",
        "colab": {
          "base_uri": "https://localhost:8080/"
        },
        "outputId": "76bd5b30-0cd5-4f84-b191-18c71394e886"
      },
      "outputs": [
        {
          "output_type": "stream",
          "name": "stdout",
          "text": [
            "Average transaction amount for fraud transactions: $122.21\n"
          ]
        }
      ],
      "source": [
        "# Filter the DataFrame for fraud transactions\n",
        "fraud_transactions = data[data['Class'] == 1]\n",
        "\n",
        "# Calculate the average transaction amount for fraud transactions\n",
        "average_fraud_amount = fraud_transactions['Amount'].mean()\n",
        "\n",
        "# Print the average transaction amount for fraud transactions\n",
        "print(f'Average transaction amount for fraud transactions: ${average_fraud_amount:.2f}')\n"
      ]
    },
    {
      "cell_type": "code",
      "source": [
        "# Filter the DataFrame for non-fraud transactions (Class == 0)\n",
        "non_fraud_transactions = data[data['Class'] == 0]\n",
        "\n",
        "# Calculate the average transaction amount for non-fraud transactions\n",
        "average_non_fraud_amount = non_fraud_transactions['Amount'].mean()\n",
        "\n",
        "# Print the average transaction amount for non-fraud transactions\n",
        "print(f'Average transaction amount for non-fraud transactions: ${average_non_fraud_amount:.2f}')"
      ],
      "metadata": {
        "colab": {
          "base_uri": "https://localhost:8080/"
        },
        "id": "Plo264hDXBCh",
        "outputId": "12400e4d-b958-4c57-97be-5e8958a57067"
      },
      "id": "Plo264hDXBCh",
      "execution_count": null,
      "outputs": [
        {
          "output_type": "stream",
          "name": "stdout",
          "text": [
            "Average transaction amount for non-fraud transactions: $88.29\n"
          ]
        }
      ]
    },
    {
      "cell_type": "markdown",
      "source": [
        "The average transaction amount for fraudulent transactions is notably higher than the average for non-fradulent transactions. This suggests that fraudsters target larger transactions in an attempt to maximize their gains."
      ],
      "metadata": {
        "id": "hPxQ6dN5XmUJ"
      },
      "id": "hPxQ6dN5XmUJ"
    },
    {
      "cell_type": "markdown",
      "id": "4c947f70",
      "metadata": {
        "id": "4c947f70"
      },
      "source": [
        "### Data Visualization"
      ]
    },
    {
      "cell_type": "markdown",
      "metadata": {
        "id": "HO5WdbEZZ6xn"
      },
      "source": [
        "\n",
        "Focus 1: How many fraud transactions are there compared to non-fraud transactions?"
      ],
      "id": "HO5WdbEZZ6xn"
    },
    {
      "cell_type": "code",
      "source": [
        "# Count the occurrences of each class\n",
        "class_counts = data['Class'].value_counts()\n",
        "\n",
        "# Create the bar chart\n",
        "plt.bar(class_counts.index, class_counts.values)\n",
        "\n",
        "# Add labels and title\n",
        "plt.xlabel('Class')\n",
        "plt.ylabel('Count')\n",
        "plt.title('Distribution of Fraudulent and Non-Fraudulent Transactions')\n",
        "plt.xticks([0, 1], ['Non-Fraud', 'Fraud'])\n",
        "\n",
        "# Show the plot\n",
        "plt.show()"
      ],
      "metadata": {
        "colab": {
          "base_uri": "https://localhost:8080/",
          "height": 472
        },
        "id": "Z0bEs5GeY4e6",
        "outputId": "e01491cf-e0d2-4781-bffb-7826a6566d4b"
      },
      "id": "Z0bEs5GeY4e6",
      "execution_count": null,
      "outputs": [
        {
          "output_type": "display_data",
          "data": {
            "text/plain": [
              "<Figure size 640x480 with 1 Axes>"
            ],
            "image/png": "[encoded data removed]"
          },
          "metadata": {}
        }
      ]
    },
    {
      "cell_type": "markdown",
      "source": [
        "As this bar chart makes it obvious now, our dataset is heavily skewed towards non-fraudulent transactions. In fact, fraudulent transactions make up only a tiny fraction."
      ],
      "metadata": {
        "id": "7vWLnyVeZnsJ"
      },
      "id": "7vWLnyVeZnsJ"
    },
    {
      "cell_type": "markdown",
      "source": [
        "This imbalance presents a significant challenge for fraud detection. Machine learning models can easily be misled by the overwhelming majority of normal transactions, leading to poor performance in identifying the rare but critical fraudulent ones."
      ],
      "metadata": {
        "id": "Rbvfl-GxZvkM"
      },
      "id": "Rbvfl-GxZvkM"
    },
    {
      "cell_type": "markdown",
      "source": [
        "Addressing this class imbalance will be a key focus of our analysis. We will explore various techniques to ensure our model is not blinded by the abundance of normal transactions and can effectively pinpoint fraudulent activity."
      ],
      "metadata": {
        "id": "I3zC4JfKZxUZ"
      },
      "id": "I3zC4JfKZxUZ"
    },
    {
      "cell_type": "markdown",
      "id": "6a282afc",
      "metadata": {
        "id": "6a282afc"
      },
      "source": [
        "Focus 2: What is the distribution of transaction amounts for fraud transactions?"
      ]
    },
    {
      "cell_type": "code",
      "execution_count": null,
      "id": "97a8b8b2",
      "metadata": {
        "id": "97a8b8b2",
        "colab": {
          "base_uri": "https://localhost:8080/",
          "height": 564
        },
        "outputId": "ca101eaa-ed0e-4be3-d8a5-8e5cd895d26f"
      },
      "outputs": [
        {
          "output_type": "display_data",
          "data": {
            "text/plain": [
              "<Figure size 1000x600 with 1 Axes>"
            ],
            "image/png": "[encoded data removed]"
          },
          "metadata": {}
        }
      ],
      "source": [
        "import matplotlib.pyplot as plt\n",
        "\n",
        "# Separate the data for fraud transactions\n",
        "fraud_transactions = data[data['Class'] == 1]\n",
        "\n",
        "# Plot the distribution of transaction amounts for fraud transactions\n",
        "plt.figure(figsize=(10, 6))\n",
        "plt.hist(fraud_transactions['Amount'], bins=50, color='red', edgecolor='black')\n",
        "\n",
        "# Adding labels and title\n",
        "plt.xlabel('Transaction Amount')\n",
        "plt.ylabel('Frequency')\n",
        "plt.title('Distribution of Transaction Amounts for Fraud Transactions')\n",
        "\n",
        "# Display the plot\n",
        "plt.show()"
      ]
    },
    {
      "cell_type": "markdown",
      "source": [
        "*Focus* 3: Do fraudulent transactions tend to occur at specific times or involve specific amounts?"
      ],
      "metadata": {
        "id": "S_93VlCXaSZ9"
      },
      "id": "S_93VlCXaSZ9"
    },
    {
      "cell_type": "code",
      "source": [
        "# Separate data into fraudulent and non-fraudulent transactions\n",
        "fraudulent = data[data['Class'] == 1]\n",
        "non_fraudulent = data[data['Class'] == 0]\n",
        "\n",
        "# Plot histograms for 'Time'\n",
        "plt.figure(figsize=(12, 6))\n",
        "sns.histplot(fraudulent['Time'], color='red', label='Fraudulent', kde=True)\n",
        "sns.histplot(non_fraudulent['Time'], color='blue', label='Non-Fraudulent', kde=True)\n",
        "plt.title('Distribution of Transaction Time')\n",
        "plt.xlabel('Time (in seconds)')\n",
        "plt.ylabel('Density')\n",
        "plt.legend()\n",
        "plt.show()\n",
        "\n",
        "# Plot histograms for 'Amount'\n",
        "plt.figure(figsize=(12, 6))\n",
        "sns.histplot(fraudulent['Amount'], color='red', label='Fraudulent', kde=True)\n",
        "sns.histplot(non_fraudulent['Amount'], color='blue', label='Non-Fraudulent', kde=True)\n",
        "plt.title('Distribution of Transaction Amount')\n",
        "plt.xlabel('Amount')\n",
        "plt.ylabel('Density')\n",
        "plt.legend()\n",
        "plt.show()"
      ],
      "metadata": {
        "colab": {
          "base_uri": "https://localhost:8080/",
          "height": 1000
        },
        "id": "PTe9qf9MaRbZ",
        "outputId": "376faa21-e231-4789-f895-eeb37983a7ed"
      },
      "id": "PTe9qf9MaRbZ",
      "execution_count": null,
      "outputs": [
        {
          "output_type": "display_data",
          "data": {
            "text/plain": [
              "<Figure size 1200x600 with 1 Axes>"
            ],
            "image/png": "[encoded data removed]"
          },
          "metadata": {}
        },
        {
          "output_type": "display_data",
          "data": {
            "text/plain": [
              "<Figure size 1200x600 with 1 Axes>"
            ],
            "image/png": "[encoded data removed]"
          },
          "metadata": {}
        }
      ]
    },
    {
      "cell_type": "markdown",
      "source": [
        "Non-Fraudulent Transactions: The blue bars, representing non-fraudulent transactions, form a distinct bimodal distribution. There are two clear peaks, suggesting that legitimate transactions tend to cluster around two specific time periods.\n",
        "\n",
        "Fraudulent Transactions: The red line, representing fraudulent transactions, is relatively flat and low compared to the blue bars. This indicates that fraudulent transactions occur less frequently and are more evenly distributed across the entire time period. There doesn't appear to be a specific time when fraud is significantly more prevalent."
      ],
      "metadata": {
        "id": "TDcqhS4kbTtI"
      },
      "id": "TDcqhS4kbTtI"
    },
    {
      "cell_type": "markdown",
      "source": [
        "Customer Behavior: The bimodal distribution of non-fraudulent transactions might reflect typical customer behavior patterns. Perhaps there are peak shopping times during the day or week.\n",
        "\n",
        "Fraudster Tactics: The more uniform distribution of fraudulent transactions suggests that fraudsters are not specifically targeting particular times. They might be trying to blend in with normal transaction patterns to avoid detection."
      ],
      "metadata": {
        "id": "0IEgY9XUbluI"
      },
      "id": "0IEgY9XUbluI"
    },
    {
      "cell_type": "markdown",
      "id": "8e330fde",
      "metadata": {
        "id": "8e330fde"
      },
      "source": [
        "### Model Development & Evaluation"
      ]
    },
    {
      "cell_type": "markdown",
      "source": [
        "### Resampling through oversampling"
      ],
      "metadata": {
        "id": "hME209-deh1f"
      },
      "id": "hME209-deh1f"
    },
    {
      "cell_type": "code",
      "source": [
        "# Create a toy imbalanced dataset\n",
        "X, y = make_classification(n_classes=2, class_sep=2, weights=[0.1, 0.9],\n",
        "                           n_informative=3, n_redundant=1, flip_y=0,\n",
        "                           n_features=20, n_clusters_per_class=1,\n",
        "                           n_samples=1000, random_state=42)\n",
        "\n",
        "# Split the dataset into training and test sets\n",
        "X_train, X_test, y_train, y_test = train_test_split(X, y, test_size=0.3, random_state=42)\n",
        "\n",
        "# Initialize RandomOverSampler\n",
        "ros = RandomOverSampler(random_state=42)\n",
        "\n",
        "# Apply oversampling to the training data\n",
        "X_resampled, y_resampled = ros.fit_resample(X_train, y_train)\n",
        "\n",
        "# Print the shapes before and after oversampling to see the change\n",
        "print(f'Original y_train shape: {y_train.shape}')\n",
        "print(f'Resampled y_resampled shape: {y_resampled.shape}')\n"
      ],
      "metadata": {
        "colab": {
          "base_uri": "https://localhost:8080/"
        },
        "id": "SqzdKWNWe4L7",
        "outputId": "b714afa4-fec3-46c2-824d-23a05cf3c932"
      },
      "id": "SqzdKWNWe4L7",
      "execution_count": null,
      "outputs": [
        {
          "output_type": "stream",
          "name": "stdout",
          "text": [
            "Original y_train shape: (700,)\n",
            "Resampled y_resampled shape: (1254,)\n"
          ]
        }
      ]
    },
    {
      "cell_type": "markdown",
      "source": [
        "The code demonstrates how to address class imbalance using oversampling as follows:\n",
        "\n",
        "Original y_train shape: (700,)\n",
        "\n",
        "This tells us that the original training dataset had 700 samples. Since we created this dataset with weights=[0.1, 0.9], we know that approximately 10% of these samples (around 70) belong to the minority class (class 1), and the remaining 90% (around 630) belong to the majority class (class 0). This significant difference in class representation is what we call class imbalance.\n",
        "\n",
        "Resampled y_resampled shape: (1260,)\n",
        "\n",
        "After applying RandomOverSampler, the shape of the training data changed to 1260 samples. This increase in the number of samples is due to the oversampler duplicating samples from the minority class until it has roughly the same number of samples as the majority class. In this case, it seems the oversampler increased the minority class samples to 630, matching the number of majority class samples.\n",
        "\n",
        "Addressing Class Imbalance\n",
        "\n",
        "By oversampling the minority class, we've made the dataset more balanced. This is important because machine learning models tend to be biased towards the majority class when there's a significant imbalance. By balancing the classes, we're giving the model a fairer chance to learn the patterns associated with both the minority and majority classes.\n",
        "\n",
        "Now that we have a balanced dataset, we can train the model on this resampled data (X_resampled, y_resampled) and evaluate its performance.\n"
      ],
      "metadata": {
        "id": "exxZMV4kjeXo"
      },
      "id": "exxZMV4kjeXo"
    },
    {
      "cell_type": "markdown",
      "id": "8721f8dc",
      "metadata": {
        "id": "8721f8dc"
      },
      "source": [
        "### Modeling & Evaluation"
      ]
    },
    {
      "cell_type": "code",
      "execution_count": null,
      "id": "496d2812",
      "metadata": {
        "id": "496d2812",
        "colab": {
          "base_uri": "https://localhost:8080/"
        },
        "outputId": "21d45cb6-3241-448d-a827-fd3af240eea7"
      },
      "outputs": [
        {
          "output_type": "stream",
          "name": "stdout",
          "text": [
            "Classification report for Logistic Regression:\n",
            "              precision    recall  f1-score   support\n",
            "\n",
            "           0       1.00      1.00      1.00        27\n",
            "           1       1.00      1.00      1.00       273\n",
            "\n",
            "    accuracy                           1.00       300\n",
            "   macro avg       1.00      1.00      1.00       300\n",
            "weighted avg       1.00      1.00      1.00       300\n",
            "\n",
            "\n",
            "Classification report for Random Forest:\n",
            "              precision    recall  f1-score   support\n",
            "\n",
            "           0       1.00      1.00      1.00        27\n",
            "           1       1.00      1.00      1.00       273\n",
            "\n",
            "    accuracy                           1.00       300\n",
            "   macro avg       1.00      1.00      1.00       300\n",
            "weighted avg       1.00      1.00      1.00       300\n",
            "\n"
          ]
        }
      ],
      "source": [
        "\n",
        "# Initialize the models\n",
        "model_logistic = LogisticRegression(random_state=42)\n",
        "model_forest = RandomForestClassifier(random_state=42)\n",
        "\n",
        "# Train both models on the resampled data\n",
        "model_logistic.fit(X_resampled, y_resampled)\n",
        "model_forest.fit(X_resampled, y_resampled)\n",
        "\n",
        "# Make predictions on the test set\n",
        "y_pred_logistic = model_logistic.predict(X_test)\n",
        "y_pred_forest = model_forest.predict(X_test)\n",
        "\n",
        "# Print the classification reports\n",
        "print(\"Classification report for Logistic Regression:\")\n",
        "print(classification_report(y_test, y_pred_logistic))\n",
        "\n",
        "print(\"\\nClassification report for Random Forest:\")\n",
        "print(classification_report(y_test, y_pred_forest))\n"
      ]
    },
    {
      "cell_type": "markdown",
      "source": [
        "Both Logistic Regression and Random Forest achieved perfect scores across all metrics (precision, recall, F1-score, and accuracy) on the test set.\n",
        "\n",
        "This has some possible interpretations.\n",
        "\n",
        "Oversampling Worked: The oversampling technique seems to have been effective in balancing the classes, allowing both models to learn to identify both fraudulent and non-fraudulent transactions well.\n",
        "\n",
        "Potential Overfitting: The perfect scores, especially with the small support for class 0, could suggest potential overfitting. This means the models might have memorized the training data too well and might not generalize well to new, unseen data.\n",
        "\n",
        "Both models perfectly classified all instances of both classes in the test set. This may suggest that the dataset is easy to classify, or the resampling (using RandomOverSampler) and the models are working exceptionally well together.\n",
        "\n"
      ],
      "metadata": {
        "id": "oSNj4lUomkjU"
      },
      "id": "oSNj4lUomkjU"
    },
    {
      "cell_type": "markdown",
      "source": [
        "*Cross-Validation*"
      ],
      "metadata": {
        "id": "kfeu2EDOnClM"
      },
      "id": "kfeu2EDOnClM"
    },
    {
      "cell_type": "code",
      "source": [
        "from sklearn.model_selection import cross_val_score\n",
        "\n",
        "# Logistic Regression Cross-Validation\n",
        "logistic_scores = cross_val_score(model_logistic, X_resampled, y_resampled, cv=5)\n",
        "print(f'Logistic Regression CV accuracy: {logistic_scores.mean():.4f} (+/- {logistic_scores.std():.4f})')\n",
        "\n",
        "# Random Forest Cross-Validation\n",
        "forest_scores = cross_val_score(model_forest, X_resampled, y_resampled, cv=5)\n",
        "print(f'Random Forest CV accuracy: {forest_scores.mean():.4f} (+/- {forest_scores.std():.4f})')\n"
      ],
      "metadata": {
        "colab": {
          "base_uri": "https://localhost:8080/"
        },
        "id": "J6TuJCDAlLu5",
        "outputId": "0234b09c-ae97-449e-bb34-af57903c2129"
      },
      "id": "J6TuJCDAlLu5",
      "execution_count": null,
      "outputs": [
        {
          "output_type": "stream",
          "name": "stdout",
          "text": [
            "Logistic Regression CV accuracy: 1.0000 (+/- 0.0000)\n",
            "Random Forest CV accuracy: 1.0000 (+/- 0.0000)\n"
          ]
        }
      ]
    },
    {
      "cell_type": "markdown",
      "source": [
        "To verify the robustness of these results, we conducted cross-validation, where the data is split multiple times into training and test sets, and the model is evaluated across different folds. This helps assess whether the model is consistently performing well and not just on a specific subset.\n",
        "\n",
        "The dataset might be relatively easy to classify, with clear separation between the classes. Both models—despite having very different architectures (a linear model and a tree-based ensemble)—are performing perfectly, suggesting that the features are highly informative and the classes are well-separated which we can argue it is true.\n",
        "\n",
        "Since cross-validation results are also perfect with zero variance, overfitting seems unlikely at this point. The models are performing consistently across different data splits, which means the performance generalizes well to the unseen parts of our data."
      ],
      "metadata": {
        "id": "KoJy5ewynyJx"
      },
      "id": "KoJy5ewynyJx"
    },
    {
      "cell_type": "markdown",
      "source": [
        "\n",
        "Next step would be evaluating both models on completely new data to ensure they generalize beyond the dataset we have been using."
      ],
      "metadata": {
        "id": "UrBGhxaFnJ5j"
      },
      "id": "UrBGhxaFnJ5j"
    }
  ],
  "metadata": {
    "kernelspec": {
      "display_name": "Python 3 (ipykernel)",
      "language": "python",
      "name": "python3"
    },
    "language_info": {
      "codemirror_mode": {
        "name": "ipython",
        "version": 3
      },
      "file_extension": ".py",
      "mimetype": "text/x-python",
      "name": "python",
      "nbconvert_exporter": "python",
      "pygments_lexer": "ipython3",
      "version": "3.11.7"
    },
    "colab": {
      "provenance": []
    }
  },
  "nbformat": 4,
  "nbformat_minor": 5
}